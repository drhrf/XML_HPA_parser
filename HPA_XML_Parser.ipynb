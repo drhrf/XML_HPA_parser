{
  "cells": [
    {
      "cell_type": "markdown",
      "metadata": {
        "colab_type": "text",
        "id": "view-in-github"
      },
      "source": [
        "<a href=\"https://colab.research.google.com/github/drhrf/XML_HPA_parser/blob/main/HPA_XML_Parser.ipynb\" target=\"_parent\"><img src=\"https://colab.research.google.com/assets/colab-badge.svg\" alt=\"Open In Colab\"/></a>"
      ]
    },
    {
      "cell_type": "code",
      "execution_count": null,
      "metadata": {
        "cellView": "form",
        "id": "ghwrDz-MU2Qu"
      },
      "outputs": [],
      "source": [
        "#@title First, press 'play' here\n",
        "import pandas as pd\n",
        "from xml.etree import ElementTree\n",
        "from xml.etree.ElementTree import Element\n",
        "from xml.etree.ElementTree import SubElement\n",
        "from itertools import chain"
      ]
    },
    {
      "cell_type": "code",
      "execution_count": null,
      "metadata": {
        "cellView": "form",
        "colab": {
          "base_uri": "https://localhost:8080/"
        },
        "id": "t-p-Gu9BYprW",
        "outputId": "538bae8e-7cd5-4986-cb6b-4527203d1c60"
      },
      "outputs": [
        {
          "name": "stdout",
          "output_type": "stream",
          "text": [
            "Insert file path here: /content/APOH_HPA_data.xml\n"
          ]
        }
      ],
      "source": [
        "#@title Copy the file path and then press 'play'\n",
        "pathin = input('Insert file path here: ')\n",
        "pathout = pathin.replace('xml', 'xlsx')\n",
        "pathout = pathout.strip(\"''\")"
      ]
    },
    {
      "cell_type": "code",
      "execution_count": null,
      "metadata": {
        "cellView": "form",
        "id": "_Ddgh8LkU2Q0"
      },
      "outputs": [],
      "source": [
        "#@title Brain nTPM count\n",
        "def hpa_parser_all_all_fast(regionID, rt):\n",
        "    \n",
        "    bc = []\n",
        "\n",
        "    for typedata in rt.iter('rnaExpression'):\n",
        "        if typedata.attrib['assayType'] == \"humanBrain\":\n",
        "            for data in typedata.iter('data'):\n",
        "                for region in data.iter('tissue'):\n",
        "                    if region.text == regionID:\n",
        "                        for rna in data.findall('RNASample'):\n",
        "                            ls = list(rna.attrib.values())\n",
        "                            ls.append(region.text)\n",
        "                            ls.append(region.attrib['organ'])\n",
        "                            bc.append(ls)\n",
        "    \n",
        "    df = pd.DataFrame(bc)\n",
        "    df = df.rename(columns={0: 'ID', 1: 'Variable', 2: 'nTPM', 3: 'Sex', 4: 'Age', 5: 'Region', 6: 'Organ'})\n",
        "    return(df)\n",
        "\n",
        "def loop_parser(path, file):\n",
        "    \n",
        "    datalist = []\n",
        "    lst = []\n",
        "    document = ElementTree.parse(path)\n",
        "    rt = document.getroot()\n",
        "\n",
        "    for typedata in rt.iter('rnaExpression'):\n",
        "        if typedata.attrib['assayType'] == \"humanBrain\":\n",
        "            for data in typedata.iter('data'):\n",
        "                for region in data.iter('tissue'):\n",
        "                    lst.append(region.text)\n",
        "                    \n",
        "    for word in lst:\n",
        "        df = hpa_parser_all_all_fast(regionID= word, rt=rt)\n",
        "        datalist.append(df) \n",
        "    df = pd.concat(datalist, ignore_index=True)\n",
        "    with pd.ExcelWriter(file) as writer:\n",
        "        df.to_excel(writer)\n",
        "\n",
        "loop_parser(path= pathin, file= pathout)"
      ]
    },
    {
      "cell_type": "code",
      "execution_count": null,
      "metadata": {
        "cellView": "form",
        "id": "iIgZf8dJaHiQ"
      },
      "outputs": [],
      "source": [
        "#@title Tissue nTPM count\n",
        "def hpa_parser_all_all_fast(regionID, rt):\n",
        "    \n",
        "    bc = []\n",
        "\n",
        "    for typedata in rt.iter('rnaExpression'):\n",
        "        if typedata.attrib['assayType'] == \"tissue\":\n",
        "            for data in typedata.iter('data'):\n",
        "                for region in data.iter('tissue'):\n",
        "                    if region.text == regionID:\n",
        "                        for rna in data.findall('RNASample'):\n",
        "                            ls = list(rna.attrib.values())\n",
        "                            ls.append(region.text)\n",
        "                            ls.append(region.attrib['organ'])\n",
        "                            bc.append(ls)\n",
        "    \n",
        "    df = pd.DataFrame(bc)\n",
        "    df = df.rename(columns={0: 'ID', 1: 'Variable', 2: 'nTPM', 3: 'Sex', 4: 'Age', 5: 'Region', 6: 'Organ'})\n",
        "    return(df)\n",
        "\n",
        "def loop_parser(path, file):\n",
        "    \n",
        "    datalist = []\n",
        "    lst = []\n",
        "    document = ElementTree.parse(path)\n",
        "    rt = document.getroot()\n",
        "\n",
        "    for typedata in rt.iter('rnaExpression'):\n",
        "        if typedata.attrib['assayType'] == \"tissue\":\n",
        "            for data in typedata.iter('data'):\n",
        "                for region in data.iter('tissue'):\n",
        "                    lst.append(region.text)\n",
        "                    \n",
        "    for word in lst:\n",
        "        df = hpa_parser_all_all_fast(regionID= word, rt=rt)\n",
        "        datalist.append(df) \n",
        "    df = pd.concat(datalist, ignore_index=True)\n",
        "    with pd.ExcelWriter(file) as writer:\n",
        "        df.to_excel(writer)\n",
        "\n",
        "loop_parser(path= pathin, file= pathout)"
      ]
    }
  ],
  "metadata": {
    "colab": {
      "include_colab_link": true,
      "name": "HPA_XML_Parser.ipynb",
      "provenance": []
    },
    "interpreter": {
      "hash": "a081f2f5dc3e4b53d84bec5ffd41eab8971e903cd75f67ff639f7ee8aaf0b060"
    },
    "kernelspec": {
      "display_name": "Python 3.10.2 64-bit",
      "language": "python",
      "name": "python3"
    },
    "language_info": {
      "name": "python"
    },
    "orig_nbformat": 4
  },
  "nbformat": 4,
  "nbformat_minor": 0
}
